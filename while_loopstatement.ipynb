{
  "nbformat": 4,
  "nbformat_minor": 0,
  "metadata": {
    "colab": {
      "provenance": [],
      "authorship_tag": "ABX9TyOjCH7ejvbwsqBipwu4OU62",
      "include_colab_link": true
    },
    "kernelspec": {
      "name": "python3",
      "display_name": "Python 3"
    },
    "language_info": {
      "name": "python"
    }
  },
  "cells": [
    {
      "cell_type": "markdown",
      "metadata": {
        "id": "view-in-github",
        "colab_type": "text"
      },
      "source": [
        "<a href=\"https://colab.research.google.com/github/poonamkhot123/while_loop-statement/blob/main/while_loopstatement.ipynb\" target=\"_parent\"><img src=\"https://colab.research.google.com/assets/colab-badge.svg\" alt=\"Open In Colab\"/></a>"
      ]
    },
    {
      "cell_type": "markdown",
      "source": [
        "Q1: Write a Python program to print the sum of all even numbers between 1 and 100 using a while loop."
      ],
      "metadata": {
        "id": "nkIwwvAX-NTp"
      }
    },
    {
      "cell_type": "code",
      "source": [
        "num = 2\n",
        "sum_even = 0\n",
        "while num <= 100:\n",
        "    sum_even += num\n",
        "    num += 2\n",
        "    print(sum_even)\n"
      ],
      "metadata": {
        "colab": {
          "base_uri": "https://localhost:8080/"
        },
        "id": "7_Nwda1W-RQM",
        "outputId": "42b463a7-4dc6-4b8c-a5e2-d6e71a71d23e"
      },
      "execution_count": null,
      "outputs": [
        {
          "output_type": "stream",
          "name": "stdout",
          "text": [
            "2\n",
            "6\n",
            "12\n",
            "20\n",
            "30\n",
            "42\n",
            "56\n",
            "72\n",
            "90\n",
            "110\n",
            "132\n",
            "156\n",
            "182\n",
            "210\n",
            "240\n",
            "272\n",
            "306\n",
            "342\n",
            "380\n",
            "420\n",
            "462\n",
            "506\n",
            "552\n",
            "600\n",
            "650\n",
            "702\n",
            "756\n",
            "812\n",
            "870\n",
            "930\n",
            "992\n",
            "1056\n",
            "1122\n",
            "1190\n",
            "1260\n",
            "1332\n",
            "1406\n",
            "1482\n",
            "1560\n",
            "1640\n",
            "1722\n",
            "1806\n",
            "1892\n",
            "1980\n",
            "2070\n",
            "2162\n",
            "2256\n",
            "2352\n",
            "2450\n",
            "2550\n"
          ]
        }
      ]
    },
    {
      "cell_type": "markdown",
      "source": [
        "Q2: Write a Python program to reverse a number using a while loop"
      ],
      "metadata": {
        "id": "IavTVPNX-RxV"
      }
    },
    {
      "cell_type": "code",
      "source": [
        "num = int(input(\"Enter a number: \"))\n",
        "rev = 0\n",
        "while num > 0:\n",
        "    digit = num%10\n",
        "    rev = rev*10 + digit\n",
        "    num = num // 10\n",
        "print(\"Reversed number:\", rev)\n"
      ],
      "metadata": {
        "id": "MLFPcN3w-Vkg",
        "colab": {
          "base_uri": "https://localhost:8080/"
        },
        "outputId": "53b8f7be-2ee5-4602-959b-cd9a2355efaf"
      },
      "execution_count": null,
      "outputs": [
        {
          "output_type": "stream",
          "name": "stdout",
          "text": [
            "Enter a number: 45678\n",
            "Reversed number: 87654\n"
          ]
        }
      ]
    },
    {
      "cell_type": "markdown",
      "source": [
        "Q3: Write a Python program to find the sum of digits of a given number using a while loop."
      ],
      "metadata": {
        "id": "dI1okh5O-WAU"
      }
    },
    {
      "cell_type": "code",
      "source": [
        "num = int(input(\"Enter a number: \"))\n",
        "sum = 0\n",
        "while num > 0:\n",
        "    sum += num % 10\n",
        "    num //= 10\n",
        "print(\"Sum of digits:\", sum)\n"
      ],
      "metadata": {
        "id": "5Bk2Z_j0-Zi0",
        "colab": {
          "base_uri": "https://localhost:8080/"
        },
        "outputId": "5d404814-5df3-4de8-cba2-96604dea716d"
      },
      "execution_count": null,
      "outputs": [
        {
          "output_type": "stream",
          "name": "stdout",
          "text": [
            "Enter a number: 2345\n",
            "Sum of digits: 14\n"
          ]
        }
      ]
    },
    {
      "cell_type": "markdown",
      "source": [
        "Q4: Write a Python program to find the greatest common divisor (GCD) of two numbers using a while loop."
      ],
      "metadata": {
        "id": "RmNiZreB-aDB"
      }
    },
    {
      "cell_type": "code",
      "source": [
        "a = int(input(\"Enter first interger:\"))\n",
        "b = int(input(\"Enter second integer:\"))\n",
        "while a%b !=0:\n",
        "  rem=a%b\n",
        "  a=b\n",
        "  b=rem\n",
        "print(\"GCD is\",rem)\n"
      ],
      "metadata": {
        "id": "PfyNNk4A-dsc",
        "colab": {
          "base_uri": "https://localhost:8080/"
        },
        "outputId": "2e58f912-317c-40c4-d3b5-420dc727e521"
      },
      "execution_count": null,
      "outputs": [
        {
          "output_type": "stream",
          "name": "stdout",
          "text": [
            "Enter first interger:56\n",
            "Enter second integer:42\n",
            "GCD is 14\n"
          ]
        }
      ]
    },
    {
      "cell_type": "markdown",
      "source": [
        "Q5: Write a Python program to calculate the power of a number using a while loop (without using the ** operator)."
      ],
      "metadata": {
        "id": "CfxmgQzb-eFK"
      }
    },
    {
      "cell_type": "code",
      "source": [
        "base = int(input(\"Enter base:\"))\n",
        "exp = int(input(\"Enter exponent:\"))\n",
        "result = 1\n",
        "i=1\n",
        "while(i<=exp):\n",
        "  result = base * result\n",
        "  i = i+1\n",
        "print(\"Power:\",result)\n"
      ],
      "metadata": {
        "id": "gYx0sxfo-h9J",
        "colab": {
          "base_uri": "https://localhost:8080/"
        },
        "outputId": "4759b308-6999-4f45-80e6-4b6b8c0bd1a6"
      },
      "execution_count": null,
      "outputs": [
        {
          "output_type": "stream",
          "name": "stdout",
          "text": [
            "Enter base:3\n",
            "Enter exponent:2\n",
            "Power: 9\n"
          ]
        }
      ]
    },
    {
      "cell_type": "markdown",
      "source": [
        "Q6: Write a Python program to count the number of digits in a given number using a while loop."
      ],
      "metadata": {
        "id": "yr983BCP-ibl"
      }
    },
    {
      "cell_type": "code",
      "source": [
        "n=int(input(\"Enter a number:\"))\n",
        "count = 0\n",
        "while n>0:\n",
        "  count+=1\n",
        "  n//=10\n",
        "print(\"the total number:\",count)\n"
      ],
      "metadata": {
        "id": "ZHWtjewg-nHo",
        "colab": {
          "base_uri": "https://localhost:8080/"
        },
        "outputId": "cfef5f27-3409-452d-dd1c-d651464d1b28"
      },
      "execution_count": null,
      "outputs": [
        {
          "output_type": "stream",
          "name": "stdout",
          "text": [
            "Enter a number:1234\n",
            "the total number: 4\n"
          ]
        }
      ]
    },
    {
      "cell_type": "markdown",
      "source": [
        "Q7: Write a Python program to check if a number is a palindrome using a while loop.\n",
        "Example:"
      ],
      "metadata": {
        "id": "0BDpImEl-niJ"
      }
    },
    {
      "cell_type": "code",
      "source": [
        "n=int(input(\"Enter a number:\"))\n",
        "temp = n\n",
        "rev = 0\n",
        "while(n>0):\n",
        "  dig=n%10\n",
        "  rev=(rev%10)*dig\n",
        "  n=n//10\n",
        "if(temp==rev):\n",
        "  print(\"it is pelindrome.\")\n",
        "else:\n",
        "  print(\"it is not pelindrome\")\n"
      ],
      "metadata": {
        "id": "mRog3CmO-v1x",
        "colab": {
          "base_uri": "https://localhost:8080/"
        },
        "outputId": "585d0850-b579-41c8-88ee-a6cb32ba1c49"
      },
      "execution_count": null,
      "outputs": [
        {
          "output_type": "stream",
          "name": "stdout",
          "text": [
            "Enter a number:121\n",
            "it is not pelindrome\n"
          ]
        }
      ]
    },
    {
      "cell_type": "markdown",
      "source": [
        "Q8: Write a Python program to print all the prime numbers between 1 and 50 using a while loop."
      ],
      "metadata": {
        "id": "138kgiSY-wQ4"
      }
    },
    {
      "cell_type": "code",
      "source": [
        "num = 2\n",
        "while num <= 50:\n",
        "    is_prime = True\n",
        "    i = 2\n",
        "    while i < num:\n",
        "        if num % i == 0:\n",
        "            is_prime = False\n",
        "            break\n",
        "        i += 1\n",
        "    if is_prime:\n",
        "        print(num)\n",
        "    num += 1\n"
      ],
      "metadata": {
        "id": "jRxu8EkP-1Ut"
      },
      "execution_count": null,
      "outputs": []
    },
    {
      "cell_type": "markdown",
      "source": [
        "Q9: Write a Python program to find the least common multiple (LCM) of two numbers using a while loop."
      ],
      "metadata": {
        "id": "CTOq9zek-1um"
      }
    },
    {
      "cell_type": "code",
      "source": [
        "n1 = int(input(\"number:\"))\n",
        "n2 = int(input(\"number:\"))\n",
        "if n1>n2:\n",
        "  greater = n1\n",
        "else:\n",
        "  grater = n2\n",
        "while(True):\n",
        "  if greater % n1 == 0 and greater % n2 == 0:\n",
        "    lcm = greater\n",
        "    break\n",
        "  greater += 1\n",
        "print(lcm)\n"
      ],
      "metadata": {
        "id": "hYymHjCx-5PP",
        "colab": {
          "base_uri": "https://localhost:8080/"
        },
        "outputId": "0f7d8c2f-8418-4213-ae38-0f689f0dcb58"
      },
      "execution_count": null,
      "outputs": [
        {
          "output_type": "stream",
          "name": "stdout",
          "text": [
            "number:45\n",
            "number:25\n",
            "225\n"
          ]
        }
      ]
    },
    {
      "cell_type": "markdown",
      "source": [
        "Q10: Write a Python program to generate the Fibonacci sequence up to a given number using a while loop.\n",
        "Example:"
      ],
      "metadata": {
        "id": "fipeFGlp-5nS"
      }
    },
    {
      "cell_type": "code",
      "source": [
        "def fibonacci(n):\n",
        "    a, b = 0, 1\n",
        "    while a <= n:\n",
        "        print(a, end=\" \")\n",
        "        a, b = b, a + b\n",
        "num = int(input(\"Enter a number: \"))\n",
        "fibonacci(num)\n"
      ],
      "metadata": {
        "colab": {
          "base_uri": "https://localhost:8080/"
        },
        "id": "nKUyUPEmmy1P",
        "outputId": "6ef3b8af-6253-490e-d312-1ca9e51411c1"
      },
      "execution_count": 1,
      "outputs": [
        {
          "output_type": "stream",
          "name": "stdout",
          "text": [
            "Enter a number: 12\n",
            "0 1 1 2 3 5 8 "
          ]
        }
      ]
    }
  ]
}